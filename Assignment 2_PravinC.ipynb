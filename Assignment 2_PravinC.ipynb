{
 "cells": [
  {
   "cell_type": "markdown",
   "metadata": {},
   "source": [
    "Task 1_1 :Write a Python Program to implement your own myreduce() function which works exactly like\n",
    "                Pythons built-in function reduce()"
   ]
  },
  {
   "cell_type": "code",
   "execution_count": 1,
   "metadata": {},
   "outputs": [
    {
     "name": "stdout",
     "output_type": "stream",
     "text": [
      "15\n"
     ]
    }
   ],
   "source": [
    "def addition (x1, x2):\n",
    "    return x1+x2\n",
    "\n",
    "def myReduce(addition, seq):\n",
    "    firstIndex=seq[0]\n",
    "\n",
    "    for i in range(1,len(seq)):\n",
    "        firstIndex=addition(firstIndex, seq[i])\n",
    "    \n",
    "    return firstIndex\n",
    "\n",
    "print(myReduce(addition,[1,2,3,4,5]))"
   ]
  },
  {
   "cell_type": "markdown",
   "metadata": {},
   "source": [
    "Task 1_2: Write a Python program to implement your own myfilter() function which works exactly like\n",
    "          Pythons built-in function filter()"
   ]
  },
  {
   "cell_type": "code",
   "execution_count": 2,
   "metadata": {},
   "outputs": [
    {
     "name": "stdout",
     "output_type": "stream",
     "text": [
      "[4, 0, 54, 34, 24]\n"
     ]
    }
   ],
   "source": [
    "def is_even (num):\n",
    "    if num % 2 ==0:\n",
    "        return True\n",
    "    else:\n",
    "        return False\n",
    "\n",
    "\n",
    "def myFilter(func, seq):\n",
    "    evenList=[]\n",
    "    \n",
    "    for i in range(len(seq)):\n",
    "        if func(seq[i]):\n",
    "            evenList.append(seq[i])\n",
    "        \n",
    "    return evenList\n",
    "   \n",
    "print(myFilter(is_even,[45,67,4,0,55,54,34,24]))"
   ]
  },
  {
   "cell_type": "markdown",
   "metadata": {},
   "source": [
    "'A', 'C', 'A', 'D', 'G', 'I', ’L’, ‘ D’\n",
    "'x', 'xx', 'xxx', 'xxxx', 'y', 'yy', 'yyy', 'yyyy', 'z', 'zz', 'zzz', 'zzzz'\n",
    "'x', 'y', 'z', 'xx', 'yy', 'zz', 'xxx', 'yyy, 'zzz', 'xxxx', 'yyyy', 'zzzz'\n",
    "\n",
    "\n",
    "[2], [3], [4], [3], [4], [5], [4], [5], [6]\n",
    "[[2, 3, 4, 5], [3, 4, 5, 6], [4, 5, 6, 7], [5, 6, 7, 8]]\n",
    "[(1, 1), (2, 1), (3, 1), (1, 2), (2, 2), (3, 2), (1, 3), (2, 3), (3, 3)]"
   ]
  },
  {
   "cell_type": "code",
   "execution_count": 4,
   "metadata": {},
   "outputs": [
    {
     "data": {
      "text/plain": [
       "['A', 'C', 'A', 'D', 'G', 'I', 'L', 'D']"
      ]
     },
     "execution_count": 4,
     "metadata": {},
     "output_type": "execute_result"
    }
   ],
   "source": [
    "string1='ACADGILD'\n",
    "l=[i for i in string1]\n",
    "l"
   ]
  },
  {
   "cell_type": "code",
   "execution_count": 8,
   "metadata": {},
   "outputs": [
    {
     "name": "stdout",
     "output_type": "stream",
     "text": [
      "['x', 'xx', 'xxx', 'xxxx', 'y', 'yy', 'yyy', 'yyyy', 'z', 'zz', 'zzz', 'zzzz']\n"
     ]
    }
   ],
   "source": [
    "l=['x','y','z']\n",
    "result=[i*j for i in l for j in range(1,5)]\n",
    "print(result)"
   ]
  },
  {
   "cell_type": "code",
   "execution_count": 16,
   "metadata": {},
   "outputs": [
    {
     "name": "stdout",
     "output_type": "stream",
     "text": [
      "['x', 'y', 'z', 'xx', 'yy', 'zz', 'xxx', 'yyy', 'zzz', 'xxxx', 'yyyy', 'zzzz']\n"
     ]
    }
   ],
   "source": [
    "l=['x','y','z']\n",
    "result=[i*j for j in range(1,5) for i in l]\n",
    "print(result)"
   ]
  },
  {
   "cell_type": "code",
   "execution_count": 1,
   "metadata": {},
   "outputs": [
    {
     "data": {
      "text/plain": [
       "[[2], [3], [4], [3], [4], [5], [4], [5], [6]]"
      ]
     },
     "execution_count": 1,
     "metadata": {},
     "output_type": "execute_result"
    }
   ],
   "source": [
    "l1 = [[i + j] for j in [0, 1, 2] for i in range(2, 5)]\n",
    "l1"
   ]
  },
  {
   "cell_type": "code",
   "execution_count": 2,
   "metadata": {},
   "outputs": [
    {
     "data": {
      "text/plain": [
       "[[2, 3, 4, 5], [3, 4, 5, 6], [4, 5, 6, 7], [5, 6, 7, 8]]"
      ]
     },
     "execution_count": 2,
     "metadata": {},
     "output_type": "execute_result"
    }
   ],
   "source": [
    "l2= [[i + j for j in [0, 1, 2, 3]] for i in range(2, 6)]\n",
    "l2"
   ]
  },
  {
   "cell_type": "code",
   "execution_count": 3,
   "metadata": {},
   "outputs": [
    {
     "data": {
      "text/plain": [
       "[(1, 1), (2, 1), (3, 1), (1, 2), (2, 2), (3, 2), (1, 3), (2, 3), (3, 3)]"
      ]
     },
     "execution_count": 3,
     "metadata": {},
     "output_type": "execute_result"
    }
   ],
   "source": [
    "l3 = [(i,j) for j in [1, 2, 3] for i in [1, 2, 3]]\n",
    "l3"
   ]
  },
  {
   "cell_type": "markdown",
   "metadata": {},
   "source": [
    "    Tast 4 : Implement a function longestWord() that takes a list of words and returns the longest one"
   ]
  },
  {
   "cell_type": "code",
   "execution_count": 5,
   "metadata": {},
   "outputs": [
    {
     "name": "stdout",
     "output_type": "stream",
     "text": [
      "tiruanantpuram\n"
     ]
    }
   ],
   "source": [
    "def longestWord(list1):\n",
    "    longVal=0\n",
    "    index=0\n",
    "    for i in list1:\n",
    "        if(len(i)>longVal):\n",
    "            longVal=len(i)\n",
    "            index=i \n",
    "    return index\n",
    "\n",
    "print(longestWord([\"pravin\",\"tiruanantpuram\",\"radhanagari\",\"Pune\",\"kochi\"]))\n"
   ]
  },
  {
   "cell_type": "markdown",
   "metadata": {},
   "source": [
    "Task 5: Write a Python Program(with class concepts) to find the area of the triangle using the below\n",
    "formula.\n",
    "area = (s*(s-a)*(s-b)*(s-c)) ** 0.5\n",
    "Function to take the length of the sides of triangle from user should be defined in the parent\n",
    "class and function to calculate the area should be defined in subclass."
   ]
  },
  {
   "cell_type": "code",
   "execution_count": 31,
   "metadata": {},
   "outputs": [
    {
     "name": "stdout",
     "output_type": "stream",
     "text": [
      "10.83\n"
     ]
    }
   ],
   "source": [
    "class triangle:\n",
    "    \n",
    "    def __init__(self,a,b,c):\n",
    "        self.a=float(a)\n",
    "        self.b=float(b)\n",
    "        self.c=float(c)\n",
    "\n",
    "class area(triangle):\n",
    "    \n",
    "    def __init__(self,*args):\n",
    "        super(area,self).__init__(*args)\n",
    "    \n",
    "    def calArea(self):\n",
    "        s=(self.a+self.b+self.c)/2\n",
    "        finalArea= float(round( (s*(s-self.a)*(s-self.b)*(s-self.c)) **0.5,2))\n",
    "        return finalArea\n",
    "\n",
    "area1=area(5,5,5)\n",
    "print(area1.calArea())\n"
   ]
  },
  {
   "cell_type": "markdown",
   "metadata": {},
   "source": [
    "Task 6: Write a function filter_long_words() that takes a list of words and an integer n and returns the list\n",
    "of words that are longer than n."
   ]
  },
  {
   "cell_type": "code",
   "execution_count": 5,
   "metadata": {},
   "outputs": [
    {
     "name": "stdout",
     "output_type": "stream",
     "text": [
      "['Pravin', 'Sudhanshu', 'MLClass', 'DLClass', 'ChatBot']\n"
     ]
    }
   ],
   "source": [
    "def filter_long_words(wordList,num):\n",
    "    newList=[]\n",
    "    for i in wordList:\n",
    "        if (len(i)>= num):\n",
    "            newList.append(i)\n",
    "    return newList\n",
    "\n",
    "\n",
    "list1=[\"Pravin\",\"Sudhanshu\",\"MLClass\",\"DLClass\",\"Virat\",\"NLP\",\"Rasa\",\"ChatBot\"]\n",
    "\n",
    "print(filter_long_words(list1, 6))\n",
    "\n"
   ]
  },
  {
   "cell_type": "markdown",
   "metadata": {},
   "source": [
    "Task 7: Write a Python program using function concept that maps list of words into a list of integers\n",
    "representing the lengths of the corresponding words ."
   ]
  },
  {
   "cell_type": "code",
   "execution_count": 8,
   "metadata": {},
   "outputs": [
    {
     "name": "stdout",
     "output_type": "stream",
     "text": [
      "[6, 9, 7, 7, 5, 3, 4, 7]\n"
     ]
    }
   ],
   "source": [
    "def map_words_int(wordList):\n",
    "    newList=[]\n",
    "    for i in wordList:\n",
    "        newList.append(len(i))\n",
    "    return newList\n",
    "\n",
    "\n",
    "list1=[\"Pravin\",\"Sudhanshu\",\"MLClass\",\"DLClass\",\"Virat\",\"NLP\",\"Rasa\",\"ChatBot\"]\n",
    "\n",
    "print(map_words_int(list1))"
   ]
  },
  {
   "cell_type": "markdown",
   "metadata": {},
   "source": [
    "Task 8: Write a Python function which takes a character (i.e. a string of length 1) and returns True if it is\n",
    "a vowel, False otherwise"
   ]
  },
  {
   "cell_type": "code",
   "execution_count": 31,
   "metadata": {},
   "outputs": [
    {
     "name": "stdout",
     "output_type": "stream",
     "text": [
      "True\n",
      "False\n",
      "True\n"
     ]
    }
   ],
   "source": [
    "def isVowel(aChar):\n",
    "    Vowel=['a','e','i','o','u','A','E','I','O','U']\n",
    "    if (aChar in Vowel):\n",
    "        return \"True\"\n",
    "    else:\n",
    "        return \"False\"\n",
    "\n",
    "print(isVowel('I'))\n",
    "print(isVowel('P'))\n",
    "print(isVowel('u'))\n"
   ]
  }
 ],
 "metadata": {
  "kernelspec": {
   "display_name": "Python 3",
   "language": "python",
   "name": "python3"
  },
  "language_info": {
   "codemirror_mode": {
    "name": "ipython",
    "version": 3
   },
   "file_extension": ".py",
   "mimetype": "text/x-python",
   "name": "python",
   "nbconvert_exporter": "python",
   "pygments_lexer": "ipython3",
   "version": "3.7.4"
  }
 },
 "nbformat": 4,
 "nbformat_minor": 2
}
