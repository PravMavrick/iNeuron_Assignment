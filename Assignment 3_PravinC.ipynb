{
 "cells": [
  {
   "cell_type": "markdown",
   "metadata": {},
   "source": [
    "Tast 1: Write a function to compute 5/0 and use try/except to catch the exceptions."
   ]
  },
  {
   "cell_type": "code",
   "execution_count": 10,
   "metadata": {},
   "outputs": [
    {
     "name": "stdout",
     "output_type": "stream",
     "text": [
      "Division by zero is not allowed\n"
     ]
    }
   ],
   "source": [
    "import sys\n",
    "\n",
    "try:\n",
    "    cal=5/0\n",
    "except ZeroDivisionError:\n",
    "    print(\"Division by zero is not allowed\")\n",
    "    \n",
    "    "
   ]
  },
  {
   "cell_type": "markdown",
   "metadata": {},
   "source": [
    "Tast 2:Implement a Python program to generate all sentences where subject is in [\"Americans\",\n",
    "\"Indians\"] and verb is in [\"Play\", \"watch\"] and the object is in [\"Baseball\",\"cricket\"]."
   ]
  },
  {
   "cell_type": "code",
   "execution_count": 11,
   "metadata": {},
   "outputs": [
    {
     "name": "stdout",
     "output_type": "stream",
     "text": [
      "Americans play Baseball\n",
      "Americans play Cricket\n",
      "Americans watch Baseball\n",
      "Americans watch Cricket\n",
      "Indians play Baseball\n",
      "Indians play Cricket\n",
      "Indians watch Baseball\n",
      "Indians watch Cricket\n"
     ]
    }
   ],
   "source": [
    "subjects=[\"Americans\",\"Indians\"]\n",
    "verbs=[\"play\",\"watch\"]\n",
    "objects=[\"Baseball\",\"Cricket\"]\n",
    "\n",
    "newList1=[]\n",
    "\n",
    "\n",
    "for sub in subjects:\n",
    "    for ver in range(2):\n",
    "        newItem=sub+\" \"+verbs[ver]\n",
    "        #newList1.append(newItem)\n",
    "        for obj in range(2):\n",
    "            newItem1=newItem+\" \"+objects[obj]\n",
    "            newList1.append(newItem1)\n",
    "\n",
    "#for newl in newList1:\n",
    "#    for obj in range(2):\n",
    "#        newItem=newl+\" \"+objects[obj]\n",
    "#        newList2.append(newItem)\n",
    "\n",
    "for i in newList1:\n",
    "    print(i)\n"
   ]
  },
  {
   "cell_type": "markdown",
   "metadata": {},
   "source": [
    "Task 3: Write a function so that the columns of the output matrix are powers of the input vector.\n",
    "The order of the powers is determined by the increasing boolean argument. Specifically, when\n",
    "increasing is False, the i-th output column is the input vector raised element-wise to the power\n",
    "of N - i - 1."
   ]
  },
  {
   "cell_type": "code",
   "execution_count": 10,
   "metadata": {},
   "outputs": [
    {
     "name": "stdout",
     "output_type": "stream",
     "text": [
      "Vander matrix with increasing value as True :\n",
      "[[ 1  1  1]\n",
      " [ 4  2  1]\n",
      " [ 9  3  1]\n",
      " [16  4  1]\n",
      " [25  5  1]]\n",
      "Vander matrix with increasing value as False :\n",
      "[[ 1  1  1]\n",
      " [ 4  2  1]\n",
      " [ 9  3  1]\n",
      " [16  4  1]\n",
      " [25  5  1]]\n"
     ]
    }
   ],
   "source": [
    "import numpy as np\n",
    "\n",
    "def generate_vander(temp1, n, increasing):\n",
    "    \n",
    "    if not increasing:\n",
    "        first_matrix=np.array([x**(n-1-i) for x in temp1 for i in range(n)]).reshape(temp1.size,n)\n",
    "    elif increasing:\n",
    "        first_matrix=np.array([x**i for x in temp1 for i in range(n)]).reshape(temp1.size,n)\n",
    "    return first_matrix\n",
    "    \n",
    "\n",
    "arr1=np.array([1,2,3,4,5])\n",
    "num=3\n",
    " \n",
    "print(\"Vander matrix with increasing value as True :\")    \n",
    "print(generate_vander(arr1,num,False))\n",
    "\n",
    "\n",
    "print(\"Vander matrix with increasing value as False :\")    \n",
    "print(generate_vander(arr1,num,False))"
   ]
  }
 ],
 "metadata": {
  "kernelspec": {
   "display_name": "Python 3",
   "language": "python",
   "name": "python3"
  },
  "language_info": {
   "codemirror_mode": {
    "name": "ipython",
    "version": 3
   },
   "file_extension": ".py",
   "mimetype": "text/x-python",
   "name": "python",
   "nbconvert_exporter": "python",
   "pygments_lexer": "ipython3",
   "version": "3.7.4"
  }
 },
 "nbformat": 4,
 "nbformat_minor": 2
}
